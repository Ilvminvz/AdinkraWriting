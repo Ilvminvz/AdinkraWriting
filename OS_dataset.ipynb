{
  "nbformat": 4,
  "nbformat_minor": 0,
  "metadata": {
    "colab": {
      "name": "OS_dataset.ipynb",
      "provenance": [],
      "collapsed_sections": [],
      "authorship_tag": "ABX9TyNkDflyZhI9JJlKmmF546/E",
      "include_colab_link": true
    },
    "kernelspec": {
      "name": "python3",
      "display_name": "Python 3"
    }
  },
  "cells": [
    {
      "cell_type": "markdown",
      "metadata": {
        "id": "view-in-github",
        "colab_type": "text"
      },
      "source": [
        "<a href=\"https://colab.research.google.com/github/Ilvminvz/AdinkraWriting/blob/main/OS_dataset.ipynb\" target=\"_parent\"><img src=\"https://colab.research.google.com/assets/colab-badge.svg\" alt=\"Open In Colab\"/></a>"
      ]
    },
    {
      "cell_type": "code",
      "metadata": {
        "id": "riUH4Q45l12q"
      },
      "source": [
        "import tensorflow as tf"
      ],
      "execution_count": 1,
      "outputs": []
    },
    {
      "cell_type": "code",
      "metadata": {
        "id": "FPD_S9vdmSrS"
      },
      "source": [
        "from tensorflow import keras"
      ],
      "execution_count": 2,
      "outputs": []
    },
    {
      "cell_type": "code",
      "metadata": {
        "id": "-9PI_0j4mfYE"
      },
      "source": [
        "from tensorflow.keras import Sequential"
      ],
      "execution_count": 3,
      "outputs": []
    },
    {
      "cell_type": "code",
      "metadata": {
        "id": "HDhwiBCAmvyS"
      },
      "source": [
        "from tensorflow.keras.layers import Dense"
      ],
      "execution_count": 4,
      "outputs": []
    },
    {
      "cell_type": "code",
      "metadata": {
        "id": "ViL_imbUq--p"
      },
      "source": [
        "from google.colab import drive"
      ],
      "execution_count": 5,
      "outputs": []
    },
    {
      "cell_type": "code",
      "metadata": {
        "id": "UlDQ9fX8ubiR",
        "colab": {
          "base_uri": "https://localhost:8080/"
        },
        "outputId": "4edce836-8f0e-4f6b-ae8a-36223b978987"
      },
      "source": [
        "drive.mount('/content/drive')"
      ],
      "execution_count": 6,
      "outputs": [
        {
          "output_type": "stream",
          "text": [
            "Mounted at /content/drive\n"
          ],
          "name": "stdout"
        }
      ]
    },
    {
      "cell_type": "code",
      "metadata": {
        "id": "IsRPasv9ur4V"
      },
      "source": [
        "import os, shutil"
      ],
      "execution_count": 7,
      "outputs": []
    },
    {
      "cell_type": "code",
      "metadata": {
        "id": "Q51PTxT2v-JY"
      },
      "source": [
        "base_dir = '/content/drive/My Drive/AdinKrata'"
      ],
      "execution_count": 8,
      "outputs": []
    },
    {
      "cell_type": "code",
      "metadata": {
        "id": "quR4qpkv4EdV"
      },
      "source": [
        "train_dir = os.path.join(base_dir, 'train')"
      ],
      "execution_count": 9,
      "outputs": []
    },
    {
      "cell_type": "code",
      "metadata": {
        "id": "P72sh-Ce5yx2",
        "colab": {
          "base_uri": "https://localhost:8080/",
          "height": 35
        },
        "outputId": "41f3c847-afe7-4e58-fa65-5a12f5e18652"
      },
      "source": [
        "train_dir"
      ],
      "execution_count": 10,
      "outputs": [
        {
          "output_type": "execute_result",
          "data": {
            "application/vnd.google.colaboratory.intrinsic+json": {
              "type": "string"
            },
            "text/plain": [
              "'/content/drive/My Drive/AdinKrata/train'"
            ]
          },
          "metadata": {
            "tags": []
          },
          "execution_count": 10
        }
      ]
    },
    {
      "cell_type": "code",
      "metadata": {
        "id": "MK_3Ktef6dz6"
      },
      "source": [
        "test_dir = os.path.join(base_dir, 'test')"
      ],
      "execution_count": 11,
      "outputs": []
    },
    {
      "cell_type": "code",
      "metadata": {
        "id": "E8TeNo8X7RYS",
        "colab": {
          "base_uri": "https://localhost:8080/",
          "height": 35
        },
        "outputId": "b3cb8d8e-5800-47ec-ccac-14d9f7490971"
      },
      "source": [
        "test_dir"
      ],
      "execution_count": 12,
      "outputs": [
        {
          "output_type": "execute_result",
          "data": {
            "application/vnd.google.colaboratory.intrinsic+json": {
              "type": "string"
            },
            "text/plain": [
              "'/content/drive/My Drive/AdinKrata/test'"
            ]
          },
          "metadata": {
            "tags": []
          },
          "execution_count": 12
        }
      ]
    },
    {
      "cell_type": "code",
      "metadata": {
        "id": "vbGhZG4Y7UY2"
      },
      "source": [
        "train_a_dir = os.path.join(train_dir, 'a')"
      ],
      "execution_count": 13,
      "outputs": []
    },
    {
      "cell_type": "code",
      "metadata": {
        "id": "dqyC5xJT8hJn"
      },
      "source": [
        "train_b_dir = os.path.join(train_dir, 'b')"
      ],
      "execution_count": 14,
      "outputs": []
    },
    {
      "cell_type": "code",
      "metadata": {
        "id": "lGSpjlBu9L8x"
      },
      "source": [
        "train_c_dir = os.path.join(train_dir, 'c')"
      ],
      "execution_count": 15,
      "outputs": []
    },
    {
      "cell_type": "code",
      "metadata": {
        "id": "Tuh4CMc29bAh"
      },
      "source": [
        "train_d_dir = os.path.join(train_dir, 'd')"
      ],
      "execution_count": 16,
      "outputs": []
    },
    {
      "cell_type": "code",
      "metadata": {
        "id": "VbwnTzbq9bWa"
      },
      "source": [
        "train_e_dir = os.path.join(train_dir, 'e')"
      ],
      "execution_count": 17,
      "outputs": []
    },
    {
      "cell_type": "code",
      "metadata": {
        "id": "Ij2lWPAN9l7M"
      },
      "source": [
        "train_ɛ_dir = os.path.join(train_dir, 'ɛ')"
      ],
      "execution_count": 18,
      "outputs": []
    },
    {
      "cell_type": "code",
      "metadata": {
        "id": "i33Y4tkL9mKW"
      },
      "source": [
        "train_f_dir = os.path.join(train_dir, 'f')"
      ],
      "execution_count": 19,
      "outputs": []
    },
    {
      "cell_type": "code",
      "metadata": {
        "id": "uAz1LK6m9mVV"
      },
      "source": [
        "train_g_dir = os.path.join(train_dir, 'g')"
      ],
      "execution_count": 20,
      "outputs": []
    },
    {
      "cell_type": "code",
      "metadata": {
        "id": "t2qrbboQ9mkL"
      },
      "source": [
        "train_h_dir = os.path.join(train_dir, 'h')"
      ],
      "execution_count": 21,
      "outputs": []
    },
    {
      "cell_type": "code",
      "metadata": {
        "id": "7w5u2hrn9m08"
      },
      "source": [
        "train_i_dir = os.path.join(train_dir, 'i')"
      ],
      "execution_count": 22,
      "outputs": []
    },
    {
      "cell_type": "code",
      "metadata": {
        "id": "ormuA1BO-ld4"
      },
      "source": [
        "train_j_dir = os.path.join(train_dir, 'j')"
      ],
      "execution_count": 23,
      "outputs": []
    },
    {
      "cell_type": "code",
      "metadata": {
        "id": "EdeLtejH-luv"
      },
      "source": [
        "train_k_dir = os.path.join(train_dir, 'k')"
      ],
      "execution_count": 24,
      "outputs": []
    },
    {
      "cell_type": "code",
      "metadata": {
        "id": "FKs-C8of-l4D"
      },
      "source": [
        "train_l_dir = os.path.join(train_dir, 'l')"
      ],
      "execution_count": 25,
      "outputs": []
    },
    {
      "cell_type": "code",
      "metadata": {
        "id": "FlbBP4mD-mBN"
      },
      "source": [
        "train_m_dir = os.path.join(train_dir, 'm')"
      ],
      "execution_count": 26,
      "outputs": []
    },
    {
      "cell_type": "code",
      "metadata": {
        "id": "dFhFiZRA-mJt"
      },
      "source": [
        "train_n_dir = os.path.join(train_dir, 'n')"
      ],
      "execution_count": 27,
      "outputs": []
    },
    {
      "cell_type": "code",
      "metadata": {
        "id": "QkKl-IGU-mSa"
      },
      "source": [
        "train_o_dir = os.path.join(train_dir, 'o')"
      ],
      "execution_count": 28,
      "outputs": []
    },
    {
      "cell_type": "code",
      "metadata": {
        "id": "gZrN-zu7-mbm"
      },
      "source": [
        "train_ɔ_dir = os.path.join(train_dir, 'ɔ')"
      ],
      "execution_count": 29,
      "outputs": []
    },
    {
      "cell_type": "code",
      "metadata": {
        "id": "Abfwj_OQ-mjz"
      },
      "source": [
        "train_p_dir = os.path.join(train_dir, 'p')"
      ],
      "execution_count": 30,
      "outputs": []
    },
    {
      "cell_type": "code",
      "metadata": {
        "id": "icngCaKE-mtT"
      },
      "source": [
        "train_q_dir = os.path.join(train_dir, 'q')"
      ],
      "execution_count": 31,
      "outputs": []
    },
    {
      "cell_type": "code",
      "metadata": {
        "id": "piow0z-B-m1n"
      },
      "source": [
        "train_r_dir = os.path.join(train_dir, 'r')"
      ],
      "execution_count": 32,
      "outputs": []
    },
    {
      "cell_type": "code",
      "metadata": {
        "id": "30ggYJaz-m-M"
      },
      "source": [
        "train_s_dir = os.path.join(train_dir, 's')"
      ],
      "execution_count": 33,
      "outputs": []
    },
    {
      "cell_type": "code",
      "metadata": {
        "id": "aT48kHAa-nGg"
      },
      "source": [
        "train_t_dir = os.path.join(train_dir, 't')"
      ],
      "execution_count": 34,
      "outputs": []
    },
    {
      "cell_type": "code",
      "metadata": {
        "id": "QUy1N5Jn-nPu"
      },
      "source": [
        "train_u_dir = os.path.join(train_dir, 'u')"
      ],
      "execution_count": 35,
      "outputs": []
    },
    {
      "cell_type": "code",
      "metadata": {
        "id": "mDSKSTU7-nYO"
      },
      "source": [
        "train_v_dir = os.path.join(train_dir, 'v')"
      ],
      "execution_count": 36,
      "outputs": []
    },
    {
      "cell_type": "code",
      "metadata": {
        "id": "9cQrztip_coS"
      },
      "source": [
        "train_w_dir = os.path.join(train_dir, 'w')"
      ],
      "execution_count": 37,
      "outputs": []
    },
    {
      "cell_type": "code",
      "metadata": {
        "id": "J4PvuSIr_dEE"
      },
      "source": [
        "train_x_dir = os.path.join(train_dir, 'x')"
      ],
      "execution_count": 38,
      "outputs": []
    },
    {
      "cell_type": "code",
      "metadata": {
        "id": "xIvuikc5_dgl"
      },
      "source": [
        "train_y_dir = os.path.join(train_dir, 'y')"
      ],
      "execution_count": 39,
      "outputs": []
    },
    {
      "cell_type": "code",
      "metadata": {
        "id": "Ll7-jy_2_gJY"
      },
      "source": [
        "train_z_dir = os.path.join(train_dir, 'z')"
      ],
      "execution_count": 40,
      "outputs": []
    },
    {
      "cell_type": "code",
      "metadata": {
        "id": "o9q2Wism_gTr"
      },
      "source": [
        "train_ch_dir = os.path.join(train_dir, 'ch')"
      ],
      "execution_count": 41,
      "outputs": []
    },
    {
      "cell_type": "code",
      "metadata": {
        "id": "CeWu2Iv2_gjf"
      },
      "source": [
        "train_dz_dir = os.path.join(train_dir, 'dz')"
      ],
      "execution_count": 42,
      "outputs": []
    },
    {
      "cell_type": "code",
      "metadata": {
        "id": "wbut-Ick_gxV"
      },
      "source": [
        "train_ɖ_dir = os.path.join(train_dir, 'ɖ')"
      ],
      "execution_count": 43,
      "outputs": []
    },
    {
      "cell_type": "code",
      "metadata": {
        "id": "19-mLmGi_hDS"
      },
      "source": [
        "train_ƒ_dir = os.path.join(train_dir, 'ƒ')"
      ],
      "execution_count": 44,
      "outputs": []
    },
    {
      "cell_type": "code",
      "metadata": {
        "id": "sSa6flwo_hSl"
      },
      "source": [
        "train_ɣ_dir = os.path.join(train_dir, 'ɣ')"
      ],
      "execution_count": 45,
      "outputs": []
    },
    {
      "cell_type": "code",
      "metadata": {
        "id": "dulAXvpW_hhg"
      },
      "source": [
        "train_gb_dir = os.path.join(train_dir, 'gb')"
      ],
      "execution_count": 46,
      "outputs": []
    },
    {
      "cell_type": "code",
      "metadata": {
        "id": "rKMIHaqH_hxj"
      },
      "source": [
        "train_kp_dir = os.path.join(train_dir, 'kp')"
      ],
      "execution_count": 47,
      "outputs": []
    },
    {
      "cell_type": "code",
      "metadata": {
        "id": "RYioFOH3_iGS"
      },
      "source": [
        "train_ny_dir = os.path.join(train_dir, 'ny')"
      ],
      "execution_count": 48,
      "outputs": []
    },
    {
      "cell_type": "code",
      "metadata": {
        "id": "tnX05-J7_icZ"
      },
      "source": [
        "train_ŋ_dir = os.path.join(train_dir, 'ŋ')"
      ],
      "execution_count": 49,
      "outputs": []
    },
    {
      "cell_type": "code",
      "metadata": {
        "id": "vfEObKf_DeY0"
      },
      "source": [
        "train_sh_dir = os.path.join(train_dir, 'sh')"
      ],
      "execution_count": 50,
      "outputs": []
    },
    {
      "cell_type": "code",
      "metadata": {
        "id": "9MnpMdM2Detc"
      },
      "source": [
        "train_ʋ_dir = os.path.join(train_dir, 'ʋ')"
      ],
      "execution_count": 51,
      "outputs": []
    },
    {
      "cell_type": "code",
      "metadata": {
        "id": "AcFWHw2_DfBx"
      },
      "source": [
        "train_ʒ_dir = os.path.join(train_dir, 'ʒ')"
      ],
      "execution_count": 52,
      "outputs": []
    },
    {
      "cell_type": "code",
      "metadata": {
        "id": "hvaa73DMDfaf",
        "colab": {
          "base_uri": "https://localhost:8080/"
        },
        "outputId": "1b4f3201-b5cc-4c9b-c415-d27738af632d"
      },
      "source": [
        "print('Total training images in a: ', len(os.listdir(train_a_dir)))"
      ],
      "execution_count": 53,
      "outputs": [
        {
          "output_type": "stream",
          "text": [
            "Total training images in a:  8\n"
          ],
          "name": "stdout"
        }
      ]
    },
    {
      "cell_type": "code",
      "metadata": {
        "id": "9Lmf4KT-Ho6t",
        "colab": {
          "base_uri": "https://localhost:8080/"
        },
        "outputId": "ec81c356-46f5-4b37-881f-b06b1fe3e9f7"
      },
      "source": [
        "print('Total training images in b: ', len(os.listdir(train_b_dir)))"
      ],
      "execution_count": 54,
      "outputs": [
        {
          "output_type": "stream",
          "text": [
            "Total training images in b:  4\n"
          ],
          "name": "stdout"
        }
      ]
    },
    {
      "cell_type": "code",
      "metadata": {
        "id": "fNrbNF2cMO1S",
        "colab": {
          "base_uri": "https://localhost:8080/"
        },
        "outputId": "a8087450-8e86-41cc-90f1-ac21eaa736d8"
      },
      "source": [
        "print('Total training images in c: ', len(os.listdir(train_c_dir)))"
      ],
      "execution_count": 55,
      "outputs": [
        {
          "output_type": "stream",
          "text": [
            "Total training images in c:  5\n"
          ],
          "name": "stdout"
        }
      ]
    },
    {
      "cell_type": "code",
      "metadata": {
        "id": "5tKRIn-NMPPT",
        "colab": {
          "base_uri": "https://localhost:8080/"
        },
        "outputId": "231bd16c-c497-4b9d-c50b-df0d764c3989"
      },
      "source": [
        "print('Total training images in d: ', len(os.listdir(train_d_dir)))"
      ],
      "execution_count": 56,
      "outputs": [
        {
          "output_type": "stream",
          "text": [
            "Total training images in d:  10\n"
          ],
          "name": "stdout"
        }
      ]
    },
    {
      "cell_type": "code",
      "metadata": {
        "id": "RQIb9AsAMPjP",
        "colab": {
          "base_uri": "https://localhost:8080/"
        },
        "outputId": "4546bf50-e009-46fb-91d3-f31e86f946fa"
      },
      "source": [
        "print('Total training images in e: ', len(os.listdir(train_e_dir)))"
      ],
      "execution_count": 57,
      "outputs": [
        {
          "output_type": "stream",
          "text": [
            "Total training images in e:  3\n"
          ],
          "name": "stdout"
        }
      ]
    },
    {
      "cell_type": "code",
      "metadata": {
        "id": "B0gfhsq3MP4m",
        "colab": {
          "base_uri": "https://localhost:8080/"
        },
        "outputId": "a46749cb-1ca4-4436-f04f-b4ed879f4a7e"
      },
      "source": [
        "print('Total training images in ɛ: ', len(os.listdir(train_ɛ_dir)))"
      ],
      "execution_count": 58,
      "outputs": [
        {
          "output_type": "stream",
          "text": [
            "Total training images in ɛ:  0\n"
          ],
          "name": "stdout"
        }
      ]
    },
    {
      "cell_type": "code",
      "metadata": {
        "id": "Of9okPAgMQL-",
        "colab": {
          "base_uri": "https://localhost:8080/"
        },
        "outputId": "38673661-e592-4011-c42e-a42286843e65"
      },
      "source": [
        "print('Total training images in f: ', len(os.listdir(train_f_dir)))"
      ],
      "execution_count": 59,
      "outputs": [
        {
          "output_type": "stream",
          "text": [
            "Total training images in f:  5\n"
          ],
          "name": "stdout"
        }
      ]
    },
    {
      "cell_type": "code",
      "metadata": {
        "id": "JezXj0tqMQgJ",
        "colab": {
          "base_uri": "https://localhost:8080/"
        },
        "outputId": "f507109d-4d68-4058-9a99-af62629a5bc6"
      },
      "source": [
        "print('Total training images in g: ', len(os.listdir(train_g_dir)))"
      ],
      "execution_count": 60,
      "outputs": [
        {
          "output_type": "stream",
          "text": [
            "Total training images in g:  3\n"
          ],
          "name": "stdout"
        }
      ]
    },
    {
      "cell_type": "code",
      "metadata": {
        "id": "wmdjwKUDMQ0v",
        "colab": {
          "base_uri": "https://localhost:8080/"
        },
        "outputId": "83e0ca2f-fb1f-4259-dddd-95b19a29c48a"
      },
      "source": [
        "print('Total training images in h: ', len(os.listdir(train_h_dir)))"
      ],
      "execution_count": 61,
      "outputs": [
        {
          "output_type": "stream",
          "text": [
            "Total training images in h:  0\n"
          ],
          "name": "stdout"
        }
      ]
    },
    {
      "cell_type": "code",
      "metadata": {
        "id": "B81rTuSNMRHy",
        "colab": {
          "base_uri": "https://localhost:8080/"
        },
        "outputId": "eb126f28-2334-49b6-f475-08510d119eb3"
      },
      "source": [
        "print('Total training images in i: ', len(os.listdir(train_i_dir)))"
      ],
      "execution_count": 62,
      "outputs": [
        {
          "output_type": "stream",
          "text": [
            "Total training images in i:  0\n"
          ],
          "name": "stdout"
        }
      ]
    },
    {
      "cell_type": "code",
      "metadata": {
        "id": "KUHflH7GMRbe",
        "colab": {
          "base_uri": "https://localhost:8080/"
        },
        "outputId": "90fc8049-9513-4050-f82f-5a51bcc9414a"
      },
      "source": [
        "print('Total training images in j: ', len(os.listdir(train_j_dir)))"
      ],
      "execution_count": 63,
      "outputs": [
        {
          "output_type": "stream",
          "text": [
            "Total training images in j:  0\n"
          ],
          "name": "stdout"
        }
      ]
    },
    {
      "cell_type": "code",
      "metadata": {
        "id": "7SwMfVTNMRyf",
        "colab": {
          "base_uri": "https://localhost:8080/"
        },
        "outputId": "c7eb1f36-c07a-4dc6-c7f6-1f24003480c7"
      },
      "source": [
        "print('Total training images in k: ', len(os.listdir(train_k_dir)))"
      ],
      "execution_count": 64,
      "outputs": [
        {
          "output_type": "stream",
          "text": [
            "Total training images in k:  0\n"
          ],
          "name": "stdout"
        }
      ]
    },
    {
      "cell_type": "code",
      "metadata": {
        "id": "g4QR2b-TMSFS",
        "colab": {
          "base_uri": "https://localhost:8080/"
        },
        "outputId": "5d281563-ac78-4779-936e-ce91a46545b7"
      },
      "source": [
        "print('Total training images in l: ', len(os.listdir(train_l_dir)))"
      ],
      "execution_count": 65,
      "outputs": [
        {
          "output_type": "stream",
          "text": [
            "Total training images in l:  0\n"
          ],
          "name": "stdout"
        }
      ]
    },
    {
      "cell_type": "code",
      "metadata": {
        "id": "u-9B7O4EMSX1",
        "colab": {
          "base_uri": "https://localhost:8080/"
        },
        "outputId": "3edba534-4536-49ad-e133-2aa088debd15"
      },
      "source": [
        "print('Total training images in m: ', len(os.listdir(train_m_dir)))"
      ],
      "execution_count": 66,
      "outputs": [
        {
          "output_type": "stream",
          "text": [
            "Total training images in m:  0\n"
          ],
          "name": "stdout"
        }
      ]
    },
    {
      "cell_type": "code",
      "metadata": {
        "id": "4sVWIlghMSyp",
        "colab": {
          "base_uri": "https://localhost:8080/"
        },
        "outputId": "3936e543-7245-4275-d15e-d7cf9aa5c5e6"
      },
      "source": [
        "print('Total training images in n: ', len(os.listdir(train_n_dir)))"
      ],
      "execution_count": 67,
      "outputs": [
        {
          "output_type": "stream",
          "text": [
            "Total training images in n:  0\n"
          ],
          "name": "stdout"
        }
      ]
    },
    {
      "cell_type": "code",
      "metadata": {
        "id": "tdGpZew-MTHl",
        "colab": {
          "base_uri": "https://localhost:8080/"
        },
        "outputId": "9dd64ea4-7d1c-4208-9ef0-e83f3e22352f"
      },
      "source": [
        "print('Total training images in o: ', len(os.listdir(train_o_dir)))"
      ],
      "execution_count": 68,
      "outputs": [
        {
          "output_type": "stream",
          "text": [
            "Total training images in o:  0\n"
          ],
          "name": "stdout"
        }
      ]
    },
    {
      "cell_type": "code",
      "metadata": {
        "id": "cNsESP59MTcB",
        "colab": {
          "base_uri": "https://localhost:8080/"
        },
        "outputId": "b2429830-d9c3-4871-eb00-4710d329980c"
      },
      "source": [
        "print('Total training images in ɔ: ', len(os.listdir(train_ɔ_dir)))"
      ],
      "execution_count": 69,
      "outputs": [
        {
          "output_type": "stream",
          "text": [
            "Total training images in ɔ:  0\n"
          ],
          "name": "stdout"
        }
      ]
    },
    {
      "cell_type": "code",
      "metadata": {
        "id": "wsVjtRWCMTx0",
        "colab": {
          "base_uri": "https://localhost:8080/"
        },
        "outputId": "7275a688-266b-4735-b856-c1e82a2e513b"
      },
      "source": [
        "print('Total training images in p: ', len(os.listdir(train_p_dir)))"
      ],
      "execution_count": 70,
      "outputs": [
        {
          "output_type": "stream",
          "text": [
            "Total training images in p:  0\n"
          ],
          "name": "stdout"
        }
      ]
    },
    {
      "cell_type": "code",
      "metadata": {
        "id": "m1exvZu-MUGb",
        "colab": {
          "base_uri": "https://localhost:8080/"
        },
        "outputId": "ed666547-e93b-4d87-dfdd-51b09fde6182"
      },
      "source": [
        "print('Total training images in q: ', len(os.listdir(train_q_dir)))"
      ],
      "execution_count": 71,
      "outputs": [
        {
          "output_type": "stream",
          "text": [
            "Total training images in q:  0\n"
          ],
          "name": "stdout"
        }
      ]
    },
    {
      "cell_type": "code",
      "metadata": {
        "id": "OI9YUaaXMUc3",
        "colab": {
          "base_uri": "https://localhost:8080/"
        },
        "outputId": "aaad20e2-789e-4cfb-d38d-781c6763f219"
      },
      "source": [
        "print('Total training images in r: ', len(os.listdir(train_r_dir)))"
      ],
      "execution_count": 72,
      "outputs": [
        {
          "output_type": "stream",
          "text": [
            "Total training images in r:  0\n"
          ],
          "name": "stdout"
        }
      ]
    },
    {
      "cell_type": "code",
      "metadata": {
        "id": "jfmE2dK6MU3b",
        "colab": {
          "base_uri": "https://localhost:8080/"
        },
        "outputId": "46a7ac97-c65c-473b-9194-105317a3de36"
      },
      "source": [
        "print('Total training images in s: ', len(os.listdir(train_s_dir)))"
      ],
      "execution_count": 73,
      "outputs": [
        {
          "output_type": "stream",
          "text": [
            "Total training images in s:  0\n"
          ],
          "name": "stdout"
        }
      ]
    },
    {
      "cell_type": "code",
      "metadata": {
        "id": "sxAe7Th5MVJy",
        "colab": {
          "base_uri": "https://localhost:8080/"
        },
        "outputId": "c7ff411c-9242-4233-d7cd-52f02a612a3c"
      },
      "source": [
        "print('Total training images in t: ', len(os.listdir(train_t_dir)))"
      ],
      "execution_count": 74,
      "outputs": [
        {
          "output_type": "stream",
          "text": [
            "Total training images in t:  0\n"
          ],
          "name": "stdout"
        }
      ]
    },
    {
      "cell_type": "code",
      "metadata": {
        "id": "Sc8iktigMVex",
        "colab": {
          "base_uri": "https://localhost:8080/"
        },
        "outputId": "d0458008-0372-4e56-c452-dee0e816b335"
      },
      "source": [
        "print('Total training images in u: ', len(os.listdir(train_u_dir)))"
      ],
      "execution_count": 75,
      "outputs": [
        {
          "output_type": "stream",
          "text": [
            "Total training images in u:  0\n"
          ],
          "name": "stdout"
        }
      ]
    },
    {
      "cell_type": "code",
      "metadata": {
        "id": "e-jk0fJVMWiI",
        "colab": {
          "base_uri": "https://localhost:8080/"
        },
        "outputId": "f51efa91-45f0-4809-8ae1-60f2c42d5d55"
      },
      "source": [
        "print('Total training images in v: ', len(os.listdir(train_v_dir)))"
      ],
      "execution_count": 76,
      "outputs": [
        {
          "output_type": "stream",
          "text": [
            "Total training images in v:  0\n"
          ],
          "name": "stdout"
        }
      ]
    },
    {
      "cell_type": "code",
      "metadata": {
        "id": "fpPsu5P4MXBn",
        "colab": {
          "base_uri": "https://localhost:8080/"
        },
        "outputId": "a3d7262b-ed3d-42ab-9e3a-a4c296e8795c"
      },
      "source": [
        "print('Total training images in w: ', len(os.listdir(train_w_dir)))"
      ],
      "execution_count": 77,
      "outputs": [
        {
          "output_type": "stream",
          "text": [
            "Total training images in w:  0\n"
          ],
          "name": "stdout"
        }
      ]
    },
    {
      "cell_type": "code",
      "metadata": {
        "id": "CeWziiLrMXXr",
        "colab": {
          "base_uri": "https://localhost:8080/"
        },
        "outputId": "8e12cb2b-2d02-4949-e4cb-594d30bc8e23"
      },
      "source": [
        "print('Total training images in x: ', len(os.listdir(train_x_dir)))"
      ],
      "execution_count": 78,
      "outputs": [
        {
          "output_type": "stream",
          "text": [
            "Total training images in x:  0\n"
          ],
          "name": "stdout"
        }
      ]
    },
    {
      "cell_type": "code",
      "metadata": {
        "id": "6E404hzpMXvl",
        "colab": {
          "base_uri": "https://localhost:8080/"
        },
        "outputId": "fd56a5a7-ecd2-4457-b85e-0fcfbd11671a"
      },
      "source": [
        "print('Total training images in y: ', len(os.listdir(train_y_dir)))"
      ],
      "execution_count": 79,
      "outputs": [
        {
          "output_type": "stream",
          "text": [
            "Total training images in y:  0\n"
          ],
          "name": "stdout"
        }
      ]
    },
    {
      "cell_type": "code",
      "metadata": {
        "id": "Id2OslovMYF5",
        "colab": {
          "base_uri": "https://localhost:8080/"
        },
        "outputId": "037a4b5a-94db-40df-9c62-8f75843e7866"
      },
      "source": [
        "print('Total training images in z: ', len(os.listdir(train_z_dir)))"
      ],
      "execution_count": 80,
      "outputs": [
        {
          "output_type": "stream",
          "text": [
            "Total training images in z:  0\n"
          ],
          "name": "stdout"
        }
      ]
    },
    {
      "cell_type": "code",
      "metadata": {
        "id": "KfTC_zWDMYar",
        "colab": {
          "base_uri": "https://localhost:8080/"
        },
        "outputId": "1e852e94-cfb8-4345-918c-d23b411a9fa6"
      },
      "source": [
        "print('Total training images in ch: ', len(os.listdir(train_ch_dir)))"
      ],
      "execution_count": 81,
      "outputs": [
        {
          "output_type": "stream",
          "text": [
            "Total training images in ch:  0\n"
          ],
          "name": "stdout"
        }
      ]
    },
    {
      "cell_type": "code",
      "metadata": {
        "id": "UWRV7XlYMYt1",
        "colab": {
          "base_uri": "https://localhost:8080/"
        },
        "outputId": "85d21e9c-9c80-43a8-91df-e19099c99bc6"
      },
      "source": [
        "print('Total training images in dz: ', len(os.listdir(train_dz_dir)))"
      ],
      "execution_count": 82,
      "outputs": [
        {
          "output_type": "stream",
          "text": [
            "Total training images in dz:  0\n"
          ],
          "name": "stdout"
        }
      ]
    },
    {
      "cell_type": "code",
      "metadata": {
        "id": "mNZ3hr0FMZAe",
        "colab": {
          "base_uri": "https://localhost:8080/"
        },
        "outputId": "3524544b-1c61-47fd-ad45-b77e1296d890"
      },
      "source": [
        "print('Total training images in ɖ: ', len(os.listdir(train_ɖ_dir)))"
      ],
      "execution_count": 83,
      "outputs": [
        {
          "output_type": "stream",
          "text": [
            "Total training images in ɖ:  0\n"
          ],
          "name": "stdout"
        }
      ]
    },
    {
      "cell_type": "code",
      "metadata": {
        "id": "2es_AJUBMZUy",
        "colab": {
          "base_uri": "https://localhost:8080/"
        },
        "outputId": "8b07462c-36b0-48d5-f926-962a9c5d9b97"
      },
      "source": [
        "print('Total training images in ƒ: ', len(os.listdir(train_ƒ_dir)))"
      ],
      "execution_count": 84,
      "outputs": [
        {
          "output_type": "stream",
          "text": [
            "Total training images in ƒ:  0\n"
          ],
          "name": "stdout"
        }
      ]
    },
    {
      "cell_type": "code",
      "metadata": {
        "id": "eaykKmupMZox",
        "colab": {
          "base_uri": "https://localhost:8080/"
        },
        "outputId": "0f58e157-d8de-4dcb-d038-cff2bd9a337b"
      },
      "source": [
        "print('Total training images in ɣ: ', len(os.listdir(train_ɣ_dir)))"
      ],
      "execution_count": 85,
      "outputs": [
        {
          "output_type": "stream",
          "text": [
            "Total training images in ɣ:  0\n"
          ],
          "name": "stdout"
        }
      ]
    },
    {
      "cell_type": "code",
      "metadata": {
        "id": "ZE1GCDpBMZ9-",
        "colab": {
          "base_uri": "https://localhost:8080/"
        },
        "outputId": "411828a7-ea6b-4869-c6b0-9fea4ea309e0"
      },
      "source": [
        "print('Total training images in gb: ', len(os.listdir(train_gb_dir)))"
      ],
      "execution_count": 86,
      "outputs": [
        {
          "output_type": "stream",
          "text": [
            "Total training images in gb:  0\n"
          ],
          "name": "stdout"
        }
      ]
    },
    {
      "cell_type": "code",
      "metadata": {
        "id": "oBBhMZZpMaRw",
        "colab": {
          "base_uri": "https://localhost:8080/"
        },
        "outputId": "782c20b1-c240-4711-d7a8-3d3433d025a0"
      },
      "source": [
        "print('Total training images in kp: ', len(os.listdir(train_kp_dir)))"
      ],
      "execution_count": 87,
      "outputs": [
        {
          "output_type": "stream",
          "text": [
            "Total training images in kp:  0\n"
          ],
          "name": "stdout"
        }
      ]
    },
    {
      "cell_type": "code",
      "metadata": {
        "id": "tbqXQOTdMaoo",
        "colab": {
          "base_uri": "https://localhost:8080/"
        },
        "outputId": "e18b0e36-4c1e-4924-fcf8-0f9e7a9246ca"
      },
      "source": [
        "print('Total training images in ny: ', len(os.listdir(train_ny_dir)))"
      ],
      "execution_count": 88,
      "outputs": [
        {
          "output_type": "stream",
          "text": [
            "Total training images in ny:  0\n"
          ],
          "name": "stdout"
        }
      ]
    },
    {
      "cell_type": "code",
      "metadata": {
        "id": "Jz66I4lOMa_I",
        "colab": {
          "base_uri": "https://localhost:8080/"
        },
        "outputId": "3d3126f6-481c-43fa-ceff-cf76fef01b8a"
      },
      "source": [
        "print('Total training images in ŋ: ', len(os.listdir(train_ŋ_dir)))"
      ],
      "execution_count": 89,
      "outputs": [
        {
          "output_type": "stream",
          "text": [
            "Total training images in ŋ:  0\n"
          ],
          "name": "stdout"
        }
      ]
    },
    {
      "cell_type": "code",
      "metadata": {
        "id": "UeZ_om3GMbV3",
        "colab": {
          "base_uri": "https://localhost:8080/"
        },
        "outputId": "1d53311e-f265-48e8-cb62-247869557d7c"
      },
      "source": [
        "print('Total training images in sh: ', len(os.listdir(train_sh_dir)))"
      ],
      "execution_count": 90,
      "outputs": [
        {
          "output_type": "stream",
          "text": [
            "Total training images in sh:  0\n"
          ],
          "name": "stdout"
        }
      ]
    },
    {
      "cell_type": "code",
      "metadata": {
        "id": "PH6KCW42Mbrc",
        "colab": {
          "base_uri": "https://localhost:8080/"
        },
        "outputId": "ace05006-8d1c-403e-9cdf-972db01da926"
      },
      "source": [
        "print('Total training images in ʋ: ', len(os.listdir(train_ʋ_dir)))"
      ],
      "execution_count": 91,
      "outputs": [
        {
          "output_type": "stream",
          "text": [
            "Total training images in ʋ:  0\n"
          ],
          "name": "stdout"
        }
      ]
    },
    {
      "cell_type": "code",
      "metadata": {
        "id": "D_2roSNVMcAx",
        "colab": {
          "base_uri": "https://localhost:8080/"
        },
        "outputId": "08ad82d2-11bd-446d-8378-d5f7d73923be"
      },
      "source": [
        "print('Total training images in ʒ: ', len(os.listdir(train_ʒ_dir)))"
      ],
      "execution_count": 92,
      "outputs": [
        {
          "output_type": "stream",
          "text": [
            "Total training images in ʒ:  0\n"
          ],
          "name": "stdout"
        }
      ]
    },
    {
      "cell_type": "code",
      "metadata": {
        "id": "hBj-vyzXS282"
      },
      "source": [
        "from keras import layers"
      ],
      "execution_count": 93,
      "outputs": []
    },
    {
      "cell_type": "code",
      "metadata": {
        "id": "5NpdLrvZpfd5"
      },
      "source": [
        "from keras import models"
      ],
      "execution_count": 94,
      "outputs": []
    },
    {
      "cell_type": "code",
      "metadata": {
        "id": "0nG9Qmz6plWe"
      },
      "source": [
        "model = models.Sequential()"
      ],
      "execution_count": 95,
      "outputs": []
    },
    {
      "cell_type": "code",
      "metadata": {
        "id": "t3NV43jOpvRU"
      },
      "source": [
        "model.add(layers.Conv2D(32, (3, 3), activation='relu',input_shape=(150, 150, 3)))"
      ],
      "execution_count": 96,
      "outputs": []
    },
    {
      "cell_type": "code",
      "metadata": {
        "id": "SPStzJoZp_Ml"
      },
      "source": [
        "model.add(layers.MaxPooling2D((2, 2)))"
      ],
      "execution_count": 97,
      "outputs": []
    },
    {
      "cell_type": "code",
      "metadata": {
        "id": "EGzUrJbmqPT5"
      },
      "source": [
        "model.add(layers.Conv2D(64, (3, 3), activation='relu'))"
      ],
      "execution_count": 98,
      "outputs": []
    },
    {
      "cell_type": "code",
      "metadata": {
        "id": "u7285rJzqc5d"
      },
      "source": [
        "model.add(layers.MaxPooling2D((2, 2)))"
      ],
      "execution_count": 99,
      "outputs": []
    },
    {
      "cell_type": "code",
      "metadata": {
        "id": "zi3I0Bo7qr_p"
      },
      "source": [
        "model.add(layers.Conv2D(128, (3, 3), activation='relu'))"
      ],
      "execution_count": 100,
      "outputs": []
    },
    {
      "cell_type": "code",
      "metadata": {
        "id": "PfCS5hfLq1AK"
      },
      "source": [
        "model.add(layers.MaxPooling2D((2, 2)))"
      ],
      "execution_count": 101,
      "outputs": []
    },
    {
      "cell_type": "code",
      "metadata": {
        "id": "DhTGfeEHq_SI"
      },
      "source": [
        "model.add(layers.Conv2D(128, (3, 3), activation='relu'))"
      ],
      "execution_count": 102,
      "outputs": []
    },
    {
      "cell_type": "code",
      "metadata": {
        "id": "hNxEE-ZArG5H"
      },
      "source": [
        "model.add(layers.MaxPooling2D((2, 2)))"
      ],
      "execution_count": 103,
      "outputs": []
    },
    {
      "cell_type": "code",
      "metadata": {
        "id": "KN_62oFjrURz"
      },
      "source": [
        "model.add(layers.Flatten())"
      ],
      "execution_count": 104,
      "outputs": []
    },
    {
      "cell_type": "code",
      "metadata": {
        "id": "SnIAkU6brbg3"
      },
      "source": [
        "model.add(layers.Dense(512, activation='relu'))"
      ],
      "execution_count": 105,
      "outputs": []
    },
    {
      "cell_type": "code",
      "metadata": {
        "id": "Xe_72TVZ6ve1"
      },
      "source": [
        "model.add(layers.Dropout(0.5))"
      ],
      "execution_count": 106,
      "outputs": []
    },
    {
      "cell_type": "code",
      "metadata": {
        "id": "IPwdvIE_8brw"
      },
      "source": [
        "model.add(layers.Dense(128, activation='relu'))"
      ],
      "execution_count": 107,
      "outputs": []
    },
    {
      "cell_type": "code",
      "metadata": {
        "id": "jVphcH1T89ZC"
      },
      "source": [
        "model.add(layers.Dropout(0.5))"
      ],
      "execution_count": 108,
      "outputs": []
    },
    {
      "cell_type": "code",
      "metadata": {
        "id": "nlg9egKr9Hqc"
      },
      "source": [
        "model.add(layers.Dense(128, activation='relu'))"
      ],
      "execution_count": 109,
      "outputs": []
    },
    {
      "cell_type": "code",
      "metadata": {
        "id": "InmszFm_9Qum"
      },
      "source": [
        "model.add(layers.Dropout(0.5))"
      ],
      "execution_count": 110,
      "outputs": []
    },
    {
      "cell_type": "code",
      "metadata": {
        "id": "nhxgcn4-t0eq"
      },
      "source": [
        "model.add(layers.Dense(10, activation='softmax'))"
      ],
      "execution_count": 111,
      "outputs": []
    },
    {
      "cell_type": "code",
      "metadata": {
        "id": "27fuB9gwrvwZ",
        "colab": {
          "base_uri": "https://localhost:8080/"
        },
        "outputId": "4de30131-d098-4fc5-d1b1-9716f675161f"
      },
      "source": [
        "model.summary()"
      ],
      "execution_count": 112,
      "outputs": [
        {
          "output_type": "stream",
          "text": [
            "Model: \"sequential\"\n",
            "_________________________________________________________________\n",
            "Layer (type)                 Output Shape              Param #   \n",
            "=================================================================\n",
            "conv2d (Conv2D)              (None, 148, 148, 32)      896       \n",
            "_________________________________________________________________\n",
            "max_pooling2d (MaxPooling2D) (None, 74, 74, 32)        0         \n",
            "_________________________________________________________________\n",
            "conv2d_1 (Conv2D)            (None, 72, 72, 64)        18496     \n",
            "_________________________________________________________________\n",
            "max_pooling2d_1 (MaxPooling2 (None, 36, 36, 64)        0         \n",
            "_________________________________________________________________\n",
            "conv2d_2 (Conv2D)            (None, 34, 34, 128)       73856     \n",
            "_________________________________________________________________\n",
            "max_pooling2d_2 (MaxPooling2 (None, 17, 17, 128)       0         \n",
            "_________________________________________________________________\n",
            "conv2d_3 (Conv2D)            (None, 15, 15, 128)       147584    \n",
            "_________________________________________________________________\n",
            "max_pooling2d_3 (MaxPooling2 (None, 7, 7, 128)         0         \n",
            "_________________________________________________________________\n",
            "flatten (Flatten)            (None, 6272)              0         \n",
            "_________________________________________________________________\n",
            "dense (Dense)                (None, 512)               3211776   \n",
            "_________________________________________________________________\n",
            "dropout (Dropout)            (None, 512)               0         \n",
            "_________________________________________________________________\n",
            "dense_1 (Dense)              (None, 128)               65664     \n",
            "_________________________________________________________________\n",
            "dropout_1 (Dropout)          (None, 128)               0         \n",
            "_________________________________________________________________\n",
            "dense_2 (Dense)              (None, 128)               16512     \n",
            "_________________________________________________________________\n",
            "dropout_2 (Dropout)          (None, 128)               0         \n",
            "_________________________________________________________________\n",
            "dense_3 (Dense)              (None, 10)                1290      \n",
            "=================================================================\n",
            "Total params: 3,536,074\n",
            "Trainable params: 3,536,074\n",
            "Non-trainable params: 0\n",
            "_________________________________________________________________\n"
          ],
          "name": "stdout"
        }
      ]
    },
    {
      "cell_type": "code",
      "metadata": {
        "id": "6EGNKpaur5W4"
      },
      "source": [
        "from keras import optimizers"
      ],
      "execution_count": 113,
      "outputs": []
    },
    {
      "cell_type": "code",
      "metadata": {
        "id": "L70iSK2tut48"
      },
      "source": [
        "model.compile(loss='categorical_crossentropy',optimizer=optimizers.RMSprop(learning_rate=1e-4),metrics=['acc'])"
      ],
      "execution_count": 115,
      "outputs": []
    },
    {
      "cell_type": "code",
      "metadata": {
        "id": "uvUiqfjiu533"
      },
      "source": [
        "from keras.preprocessing.image import ImageDataGenerator"
      ],
      "execution_count": 116,
      "outputs": []
    },
    {
      "cell_type": "code",
      "metadata": {
        "id": "GQDTqOJdvJpU"
      },
      "source": [
        "train_datagen = ImageDataGenerator(rescale=1./255)"
      ],
      "execution_count": 117,
      "outputs": []
    },
    {
      "cell_type": "code",
      "metadata": {
        "id": "j7lxJkUIvV1w"
      },
      "source": [
        "test_datagen = ImageDataGenerator(rescale=1./255)"
      ],
      "execution_count": 118,
      "outputs": []
    },
    {
      "cell_type": "code",
      "metadata": {
        "id": "UOigoyLXve1K",
        "colab": {
          "base_uri": "https://localhost:8080/"
        },
        "outputId": "dc6ababd-6f21-4933-822b-cbbcc247c0a9"
      },
      "source": [
        "train_generator = train_datagen.flow_from_directory(train_dir,target_size=(150, 150),batch_size=20,class_mode='categorical')"
      ],
      "execution_count": 119,
      "outputs": [
        {
          "output_type": "stream",
          "text": [
            "Found 38 images belonging to 40 classes.\n"
          ],
          "name": "stdout"
        }
      ]
    },
    {
      "cell_type": "code",
      "metadata": {
        "id": "XZU_xQ-oxdj5",
        "colab": {
          "base_uri": "https://localhost:8080/"
        },
        "outputId": "0b99d869-132c-497d-dace-49452469ecb2"
      },
      "source": [
        "test_generator = test_datagen.flow_from_directory(test_dir,target_size=(150, 150),batch_size=20,class_mode='categorical')"
      ],
      "execution_count": 120,
      "outputs": [
        {
          "output_type": "stream",
          "text": [
            "Found 0 images belonging to 0 classes.\n"
          ],
          "name": "stdout"
        }
      ]
    },
    {
      "cell_type": "code",
      "metadata": {
        "id": "B5BtIqc4zBGb",
        "colab": {
          "base_uri": "https://localhost:8080/"
        },
        "outputId": "ee44d92e-a03d-459d-e296-916d58289544"
      },
      "source": [
        "for data_batch, labels_batch in train_generator:\n",
        "  print('data batch shape: ',data_batch.shape)\n",
        "  print('labels batch shape: ',labels_batch.shape)\n",
        "  break"
      ],
      "execution_count": 121,
      "outputs": [
        {
          "output_type": "stream",
          "text": [
            "data batch shape:  (20, 150, 150, 3)\n",
            "labels batch shape:  (20, 40)\n"
          ],
          "name": "stdout"
        }
      ]
    },
    {
      "cell_type": "code",
      "metadata": {
        "id": "Tn0MgNV3PICA"
      },
      "source": [
        "#history = model.fit_generator(train_generator,steps_per_epoch=100,epochs=30,test_data=test_generator) #model.fit is deprecated and no longer relevant "
      ],
      "execution_count": 123,
      "outputs": []
    },
    {
      "cell_type": "code",
      "metadata": {
        "id": "LMJ0OBF3Xbsa"
      },
      "source": [
        ""
      ],
      "execution_count": null,
      "outputs": []
    }
  ]
}