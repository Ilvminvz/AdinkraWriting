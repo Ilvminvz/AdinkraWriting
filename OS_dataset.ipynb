{
  "nbformat": 4,
  "nbformat_minor": 0,
  "metadata": {
    "colab": {
      "name": "OS_dataset.ipynb",
      "provenance": [],
      "collapsed_sections": [],
      "authorship_tag": "ABX9TyNVWtFx69hdWAh98tz2/EmQ",
      "include_colab_link": true
    },
    "kernelspec": {
      "name": "python3",
      "display_name": "Python 3"
    }
  },
  "cells": [
    {
      "cell_type": "markdown",
      "metadata": {
        "id": "view-in-github",
        "colab_type": "text"
      },
      "source": [
        "<a href=\"https://colab.research.google.com/github/Ilvminvz/AdinkraWriting/blob/main/OS_dataset.ipynb\" target=\"_parent\"><img src=\"https://colab.research.google.com/assets/colab-badge.svg\" alt=\"Open In Colab\"/></a>"
      ]
    },
    {
      "cell_type": "code",
      "metadata": {
        "id": "riUH4Q45l12q"
      },
      "source": [
        "import tensorflow as tf"
      ],
      "execution_count": null,
      "outputs": []
    },
    {
      "cell_type": "code",
      "metadata": {
        "id": "FPD_S9vdmSrS"
      },
      "source": [
        "from tensorflow import keras"
      ],
      "execution_count": null,
      "outputs": []
    },
    {
      "cell_type": "code",
      "metadata": {
        "id": "-9PI_0j4mfYE"
      },
      "source": [
        "from tensorflow.keras import Sequential"
      ],
      "execution_count": null,
      "outputs": []
    },
    {
      "cell_type": "code",
      "metadata": {
        "id": "HDhwiBCAmvyS"
      },
      "source": [
        "from tensorflow.keras.layers import Dense"
      ],
      "execution_count": null,
      "outputs": []
    },
    {
      "cell_type": "code",
      "metadata": {
        "id": "ViL_imbUq--p"
      },
      "source": [
        "from google.colab import drive"
      ],
      "execution_count": null,
      "outputs": []
    },
    {
      "cell_type": "code",
      "metadata": {
        "colab": {
          "base_uri": "https://localhost:8080/"
        },
        "id": "UlDQ9fX8ubiR",
        "outputId": "5ce123b0-4e6a-4350-d60b-45f791cdf354"
      },
      "source": [
        "drive.mount('/content/drive')"
      ],
      "execution_count": null,
      "outputs": [
        {
          "output_type": "stream",
          "text": [
            "Mounted at /content/drive\n"
          ],
          "name": "stdout"
        }
      ]
    },
    {
      "cell_type": "code",
      "metadata": {
        "id": "IsRPasv9ur4V"
      },
      "source": [
        "import os, shutil"
      ],
      "execution_count": null,
      "outputs": []
    },
    {
      "cell_type": "code",
      "metadata": {
        "id": "Q51PTxT2v-JY"
      },
      "source": [
        "base_dir = '/content/drive/My Drive/AdinKrata'"
      ],
      "execution_count": null,
      "outputs": []
    },
    {
      "cell_type": "code",
      "metadata": {
        "id": "quR4qpkv4EdV"
      },
      "source": [
        "train_dir = os.path.join(base_dir, 'train')"
      ],
      "execution_count": null,
      "outputs": []
    },
    {
      "cell_type": "code",
      "metadata": {
        "colab": {
          "base_uri": "https://localhost:8080/",
          "height": 36
        },
        "id": "P72sh-Ce5yx2",
        "outputId": "24d5cb5a-3d0c-4e27-92db-f44f6419641b"
      },
      "source": [
        "train_dir"
      ],
      "execution_count": null,
      "outputs": [
        {
          "output_type": "execute_result",
          "data": {
            "application/vnd.google.colaboratory.intrinsic+json": {
              "type": "string"
            },
            "text/plain": [
              "'/content/drive/My Drive/AdinKrata/train'"
            ]
          },
          "metadata": {
            "tags": []
          },
          "execution_count": 10
        }
      ]
    },
    {
      "cell_type": "code",
      "metadata": {
        "id": "MK_3Ktef6dz6"
      },
      "source": [
        "test_dir = os.path.join(base_dir, 'test')"
      ],
      "execution_count": null,
      "outputs": []
    },
    {
      "cell_type": "code",
      "metadata": {
        "colab": {
          "base_uri": "https://localhost:8080/",
          "height": 36
        },
        "id": "E8TeNo8X7RYS",
        "outputId": "f2e2c029-7c5d-4914-9a4a-93c4f1dbe24a"
      },
      "source": [
        "test_dir"
      ],
      "execution_count": null,
      "outputs": [
        {
          "output_type": "execute_result",
          "data": {
            "application/vnd.google.colaboratory.intrinsic+json": {
              "type": "string"
            },
            "text/plain": [
              "'/content/drive/My Drive/AdinKrata/test'"
            ]
          },
          "metadata": {
            "tags": []
          },
          "execution_count": 12
        }
      ]
    },
    {
      "cell_type": "code",
      "metadata": {
        "id": "vbGhZG4Y7UY2"
      },
      "source": [
        "train_a_dir = os.path.join(train_dir, 'a')"
      ],
      "execution_count": null,
      "outputs": []
    },
    {
      "cell_type": "code",
      "metadata": {
        "id": "dqyC5xJT8hJn"
      },
      "source": [
        "train_b_dir = os.path.join(train_dir, 'b')"
      ],
      "execution_count": null,
      "outputs": []
    },
    {
      "cell_type": "code",
      "metadata": {
        "id": "lGSpjlBu9L8x"
      },
      "source": [
        "train_c_dir = os.path.join(train_dir, 'c')"
      ],
      "execution_count": null,
      "outputs": []
    },
    {
      "cell_type": "code",
      "metadata": {
        "id": "Tuh4CMc29bAh"
      },
      "source": [
        "train_d_dir = os.path.join(train_dir, 'd')"
      ],
      "execution_count": null,
      "outputs": []
    },
    {
      "cell_type": "code",
      "metadata": {
        "id": "VbwnTzbq9bWa"
      },
      "source": [
        "train_e_dir = os.path.join(train_dir, 'e')"
      ],
      "execution_count": null,
      "outputs": []
    },
    {
      "cell_type": "code",
      "metadata": {
        "id": "Ij2lWPAN9l7M"
      },
      "source": [
        "train_ɛ_dir = os.path.join(train_dir, 'ɛ')"
      ],
      "execution_count": null,
      "outputs": []
    },
    {
      "cell_type": "code",
      "metadata": {
        "id": "i33Y4tkL9mKW"
      },
      "source": [
        "train_f_dir = os.path.join(train_dir, 'f')"
      ],
      "execution_count": null,
      "outputs": []
    },
    {
      "cell_type": "code",
      "metadata": {
        "id": "uAz1LK6m9mVV"
      },
      "source": [
        "train_g_dir = os.path.join(train_dir, 'g')"
      ],
      "execution_count": null,
      "outputs": []
    },
    {
      "cell_type": "code",
      "metadata": {
        "id": "t2qrbboQ9mkL"
      },
      "source": [
        "train_h_dir = os.path.join(train_dir, 'h')"
      ],
      "execution_count": null,
      "outputs": []
    },
    {
      "cell_type": "code",
      "metadata": {
        "id": "7w5u2hrn9m08"
      },
      "source": [
        "train_i_dir = os.path.join(train_dir, 'i')"
      ],
      "execution_count": null,
      "outputs": []
    },
    {
      "cell_type": "code",
      "metadata": {
        "id": "ormuA1BO-ld4"
      },
      "source": [
        "train_j_dir = os.path.join(train_dir, 'j')"
      ],
      "execution_count": null,
      "outputs": []
    },
    {
      "cell_type": "code",
      "metadata": {
        "id": "EdeLtejH-luv"
      },
      "source": [
        "train_k_dir = os.path.join(train_dir, 'k')"
      ],
      "execution_count": null,
      "outputs": []
    },
    {
      "cell_type": "code",
      "metadata": {
        "id": "FKs-C8of-l4D"
      },
      "source": [
        "train_l_dir = os.path.join(train_dir, 'l')"
      ],
      "execution_count": null,
      "outputs": []
    },
    {
      "cell_type": "code",
      "metadata": {
        "id": "FlbBP4mD-mBN"
      },
      "source": [
        "train_m_dir = os.path.join(train_dir, 'm')"
      ],
      "execution_count": null,
      "outputs": []
    },
    {
      "cell_type": "code",
      "metadata": {
        "id": "dFhFiZRA-mJt"
      },
      "source": [
        "train_n_dir = os.path.join(train_dir, 'n')"
      ],
      "execution_count": null,
      "outputs": []
    },
    {
      "cell_type": "code",
      "metadata": {
        "id": "QkKl-IGU-mSa"
      },
      "source": [
        "train_o_dir = os.path.join(train_dir, 'o')"
      ],
      "execution_count": null,
      "outputs": []
    },
    {
      "cell_type": "code",
      "metadata": {
        "id": "gZrN-zu7-mbm"
      },
      "source": [
        "train_ɔ_dir = os.path.join(train_dir, 'ɔ')"
      ],
      "execution_count": null,
      "outputs": []
    },
    {
      "cell_type": "code",
      "metadata": {
        "id": "Abfwj_OQ-mjz"
      },
      "source": [
        "train_p_dir = os.path.join(train_dir, 'p')"
      ],
      "execution_count": null,
      "outputs": []
    },
    {
      "cell_type": "code",
      "metadata": {
        "id": "icngCaKE-mtT"
      },
      "source": [
        "train_q_dir = os.path.join(train_dir, 'q')"
      ],
      "execution_count": null,
      "outputs": []
    },
    {
      "cell_type": "code",
      "metadata": {
        "id": "piow0z-B-m1n"
      },
      "source": [
        "train_r_dir = os.path.join(train_dir, 'r')"
      ],
      "execution_count": null,
      "outputs": []
    },
    {
      "cell_type": "code",
      "metadata": {
        "id": "30ggYJaz-m-M"
      },
      "source": [
        "train_s_dir = os.path.join(train_dir, 's')"
      ],
      "execution_count": null,
      "outputs": []
    },
    {
      "cell_type": "code",
      "metadata": {
        "id": "aT48kHAa-nGg"
      },
      "source": [
        "train_t_dir = os.path.join(train_dir, 't')"
      ],
      "execution_count": null,
      "outputs": []
    },
    {
      "cell_type": "code",
      "metadata": {
        "id": "QUy1N5Jn-nPu"
      },
      "source": [
        "train_u_dir = os.path.join(train_dir, 'u')"
      ],
      "execution_count": null,
      "outputs": []
    },
    {
      "cell_type": "code",
      "metadata": {
        "id": "mDSKSTU7-nYO"
      },
      "source": [
        "train_v_dir = os.path.join(train_dir, 'v')"
      ],
      "execution_count": null,
      "outputs": []
    },
    {
      "cell_type": "code",
      "metadata": {
        "id": "9cQrztip_coS"
      },
      "source": [
        "train_w_dir = os.path.join(train_dir, 'w')"
      ],
      "execution_count": null,
      "outputs": []
    },
    {
      "cell_type": "code",
      "metadata": {
        "id": "J4PvuSIr_dEE"
      },
      "source": [
        "train_x_dir = os.path.join(train_dir, 'x')"
      ],
      "execution_count": null,
      "outputs": []
    },
    {
      "cell_type": "code",
      "metadata": {
        "id": "xIvuikc5_dgl"
      },
      "source": [
        "train_y_dir = os.path.join(train_dir, 'y')"
      ],
      "execution_count": null,
      "outputs": []
    },
    {
      "cell_type": "code",
      "metadata": {
        "id": "Ll7-jy_2_gJY"
      },
      "source": [
        "train_z_dir = os.path.join(train_dir, 'z')"
      ],
      "execution_count": null,
      "outputs": []
    },
    {
      "cell_type": "code",
      "metadata": {
        "id": "o9q2Wism_gTr"
      },
      "source": [
        "train_ch_dir = os.path.join(train_dir, 'ch')"
      ],
      "execution_count": null,
      "outputs": []
    },
    {
      "cell_type": "code",
      "metadata": {
        "id": "CeWu2Iv2_gjf"
      },
      "source": [
        "train_dz_dir = os.path.join(train_dir, 'dz')"
      ],
      "execution_count": null,
      "outputs": []
    },
    {
      "cell_type": "code",
      "metadata": {
        "id": "wbut-Ick_gxV"
      },
      "source": [
        "train_ɖ_dir = os.path.join(train_dir, 'ɖ')"
      ],
      "execution_count": null,
      "outputs": []
    },
    {
      "cell_type": "code",
      "metadata": {
        "id": "19-mLmGi_hDS"
      },
      "source": [
        "train_ƒ_dir = os.path.join(train_dir, 'ƒ')"
      ],
      "execution_count": null,
      "outputs": []
    },
    {
      "cell_type": "code",
      "metadata": {
        "id": "sSa6flwo_hSl"
      },
      "source": [
        "train_ɣ_dir = os.path.join(train_dir, 'ɣ')"
      ],
      "execution_count": null,
      "outputs": []
    },
    {
      "cell_type": "code",
      "metadata": {
        "id": "dulAXvpW_hhg"
      },
      "source": [
        "train_gb_dir = os.path.join(train_dir, 'gb')"
      ],
      "execution_count": null,
      "outputs": []
    },
    {
      "cell_type": "code",
      "metadata": {
        "id": "rKMIHaqH_hxj"
      },
      "source": [
        "train_kp_dir = os.path.join(train_dir, 'kp')"
      ],
      "execution_count": null,
      "outputs": []
    },
    {
      "cell_type": "code",
      "metadata": {
        "id": "RYioFOH3_iGS"
      },
      "source": [
        "train_ny_dir = os.path.join(train_dir, 'ny')"
      ],
      "execution_count": null,
      "outputs": []
    },
    {
      "cell_type": "code",
      "metadata": {
        "id": "tnX05-J7_icZ"
      },
      "source": [
        "train_ŋ_dir = os.path.join(train_dir, 'ŋ')"
      ],
      "execution_count": null,
      "outputs": []
    },
    {
      "cell_type": "code",
      "metadata": {
        "id": "vfEObKf_DeY0"
      },
      "source": [
        "train_sh_dir = os.path.join(train_dir, 'sh')"
      ],
      "execution_count": null,
      "outputs": []
    },
    {
      "cell_type": "code",
      "metadata": {
        "id": "9MnpMdM2Detc"
      },
      "source": [
        "train_ʋ_dir = os.path.join(train_dir, 'ʋ')"
      ],
      "execution_count": null,
      "outputs": []
    },
    {
      "cell_type": "code",
      "metadata": {
        "id": "AcFWHw2_DfBx"
      },
      "source": [
        "train_ʒ_dir = os.path.join(train_dir, 'ʒ')"
      ],
      "execution_count": null,
      "outputs": []
    },
    {
      "cell_type": "code",
      "metadata": {
        "colab": {
          "base_uri": "https://localhost:8080/"
        },
        "id": "hvaa73DMDfaf",
        "outputId": "9fd9f761-e853-4856-df3c-ed994b2eebfc"
      },
      "source": [
        "print('Total training images in a: ', len(os.listdir(train_a_dir)))"
      ],
      "execution_count": null,
      "outputs": [
        {
          "output_type": "stream",
          "text": [
            "Total training images in a:  6\n"
          ],
          "name": "stdout"
        }
      ]
    },
    {
      "cell_type": "code",
      "metadata": {
        "id": "9Lmf4KT-Ho6t",
        "colab": {
          "base_uri": "https://localhost:8080/"
        },
        "outputId": "5e41f1ea-ecc5-4939-9a0b-65daa00d443b"
      },
      "source": [
        "print('Total training images in b: ', len(os.listdir(train_b_dir)))"
      ],
      "execution_count": null,
      "outputs": [
        {
          "output_type": "stream",
          "text": [
            "Total training images in b:  0\n"
          ],
          "name": "stdout"
        }
      ]
    },
    {
      "cell_type": "code",
      "metadata": {
        "colab": {
          "base_uri": "https://localhost:8080/"
        },
        "id": "fNrbNF2cMO1S",
        "outputId": "ddbbce8e-e8a7-448d-841d-72925947f6e2"
      },
      "source": [
        "print('Total training images in c: ', len(os.listdir(train_c_dir)))"
      ],
      "execution_count": null,
      "outputs": [
        {
          "output_type": "stream",
          "text": [
            "Total training images in c:  0\n"
          ],
          "name": "stdout"
        }
      ]
    },
    {
      "cell_type": "code",
      "metadata": {
        "colab": {
          "base_uri": "https://localhost:8080/"
        },
        "id": "5tKRIn-NMPPT",
        "outputId": "cfd0f19a-f956-4fad-f09e-8b64b55ec606"
      },
      "source": [
        "print('Total training images in d: ', len(os.listdir(train_d_dir)))"
      ],
      "execution_count": null,
      "outputs": [
        {
          "output_type": "stream",
          "text": [
            "Total training images in d:  0\n"
          ],
          "name": "stdout"
        }
      ]
    },
    {
      "cell_type": "code",
      "metadata": {
        "colab": {
          "base_uri": "https://localhost:8080/"
        },
        "id": "RQIb9AsAMPjP",
        "outputId": "148c869e-99b7-4c83-e236-4b79dfbdb02b"
      },
      "source": [
        "print('Total training images in e: ', len(os.listdir(train_e_dir)))"
      ],
      "execution_count": null,
      "outputs": [
        {
          "output_type": "stream",
          "text": [
            "Total training images in e:  0\n"
          ],
          "name": "stdout"
        }
      ]
    },
    {
      "cell_type": "code",
      "metadata": {
        "colab": {
          "base_uri": "https://localhost:8080/"
        },
        "id": "B0gfhsq3MP4m",
        "outputId": "1d3c44e9-fd0d-49ee-9ca7-a90a73f127a6"
      },
      "source": [
        "print('Total training images in ɛ: ', len(os.listdir(train_ɛ_dir)))"
      ],
      "execution_count": null,
      "outputs": [
        {
          "output_type": "stream",
          "text": [
            "Total training images in ɛ:  0\n"
          ],
          "name": "stdout"
        }
      ]
    },
    {
      "cell_type": "code",
      "metadata": {
        "colab": {
          "base_uri": "https://localhost:8080/"
        },
        "id": "Of9okPAgMQL-",
        "outputId": "e0a60a81-3bc5-4451-ffa8-9f8d4fb27ca9"
      },
      "source": [
        "print('Total training images in f: ', len(os.listdir(train_f_dir)))"
      ],
      "execution_count": null,
      "outputs": [
        {
          "output_type": "stream",
          "text": [
            "Total training images in f:  0\n"
          ],
          "name": "stdout"
        }
      ]
    },
    {
      "cell_type": "code",
      "metadata": {
        "colab": {
          "base_uri": "https://localhost:8080/"
        },
        "id": "JezXj0tqMQgJ",
        "outputId": "a0686f02-4bef-446a-f6b8-dccb43a6080b"
      },
      "source": [
        "print('Total training images in g: ', len(os.listdir(train_g_dir)))"
      ],
      "execution_count": null,
      "outputs": [
        {
          "output_type": "stream",
          "text": [
            "Total training images in g:  0\n"
          ],
          "name": "stdout"
        }
      ]
    },
    {
      "cell_type": "code",
      "metadata": {
        "colab": {
          "base_uri": "https://localhost:8080/"
        },
        "id": "wmdjwKUDMQ0v",
        "outputId": "e4dac530-ea85-46bf-8263-0f73218f29e2"
      },
      "source": [
        "print('Total training images in h: ', len(os.listdir(train_h_dir)))"
      ],
      "execution_count": null,
      "outputs": [
        {
          "output_type": "stream",
          "text": [
            "Total training images in h:  0\n"
          ],
          "name": "stdout"
        }
      ]
    },
    {
      "cell_type": "code",
      "metadata": {
        "colab": {
          "base_uri": "https://localhost:8080/"
        },
        "id": "B81rTuSNMRHy",
        "outputId": "10db5b00-3a90-4d30-b1b6-bfd2f872f014"
      },
      "source": [
        "print('Total training images in i: ', len(os.listdir(train_i_dir)))"
      ],
      "execution_count": null,
      "outputs": [
        {
          "output_type": "stream",
          "text": [
            "Total training images in i:  0\n"
          ],
          "name": "stdout"
        }
      ]
    },
    {
      "cell_type": "code",
      "metadata": {
        "colab": {
          "base_uri": "https://localhost:8080/"
        },
        "id": "KUHflH7GMRbe",
        "outputId": "f0824189-7412-4878-f897-1620b8b8838b"
      },
      "source": [
        "print('Total training images in j: ', len(os.listdir(train_j_dir)))"
      ],
      "execution_count": null,
      "outputs": [
        {
          "output_type": "stream",
          "text": [
            "Total training images in j:  0\n"
          ],
          "name": "stdout"
        }
      ]
    },
    {
      "cell_type": "code",
      "metadata": {
        "colab": {
          "base_uri": "https://localhost:8080/"
        },
        "id": "7SwMfVTNMRyf",
        "outputId": "6bf9c309-c9e0-417b-cb61-216af7f71105"
      },
      "source": [
        "print('Total training images in k: ', len(os.listdir(train_k_dir)))"
      ],
      "execution_count": null,
      "outputs": [
        {
          "output_type": "stream",
          "text": [
            "Total training images in k:  0\n"
          ],
          "name": "stdout"
        }
      ]
    },
    {
      "cell_type": "code",
      "metadata": {
        "colab": {
          "base_uri": "https://localhost:8080/"
        },
        "id": "g4QR2b-TMSFS",
        "outputId": "2c0315a7-eff7-48af-9c8b-92a6e565bd58"
      },
      "source": [
        "print('Total training images in l: ', len(os.listdir(train_l_dir)))"
      ],
      "execution_count": null,
      "outputs": [
        {
          "output_type": "stream",
          "text": [
            "Total training images in l:  0\n"
          ],
          "name": "stdout"
        }
      ]
    },
    {
      "cell_type": "code",
      "metadata": {
        "colab": {
          "base_uri": "https://localhost:8080/"
        },
        "id": "u-9B7O4EMSX1",
        "outputId": "e32794ce-a472-4440-a1d5-d8aaa9c16431"
      },
      "source": [
        "print('Total training images in m: ', len(os.listdir(train_m_dir)))"
      ],
      "execution_count": null,
      "outputs": [
        {
          "output_type": "stream",
          "text": [
            "Total training images in m:  0\n"
          ],
          "name": "stdout"
        }
      ]
    },
    {
      "cell_type": "code",
      "metadata": {
        "colab": {
          "base_uri": "https://localhost:8080/"
        },
        "id": "4sVWIlghMSyp",
        "outputId": "1be1f8ee-b11d-45f3-ee79-a19c79420f06"
      },
      "source": [
        "print('Total training images in n: ', len(os.listdir(train_n_dir)))"
      ],
      "execution_count": null,
      "outputs": [
        {
          "output_type": "stream",
          "text": [
            "Total training images in n:  0\n"
          ],
          "name": "stdout"
        }
      ]
    },
    {
      "cell_type": "code",
      "metadata": {
        "colab": {
          "base_uri": "https://localhost:8080/"
        },
        "id": "tdGpZew-MTHl",
        "outputId": "34b129e9-19a5-41f5-8794-04970bb4133b"
      },
      "source": [
        "print('Total training images in o: ', len(os.listdir(train_o_dir)))"
      ],
      "execution_count": null,
      "outputs": [
        {
          "output_type": "stream",
          "text": [
            "Total training images in o:  0\n"
          ],
          "name": "stdout"
        }
      ]
    },
    {
      "cell_type": "code",
      "metadata": {
        "colab": {
          "base_uri": "https://localhost:8080/"
        },
        "id": "cNsESP59MTcB",
        "outputId": "1121f3e3-8ac9-48c7-adea-5d809626cfb2"
      },
      "source": [
        "print('Total training images in ɔ: ', len(os.listdir(train_ɔ_dir)))"
      ],
      "execution_count": null,
      "outputs": [
        {
          "output_type": "stream",
          "text": [
            "Total training images in ɔ:  0\n"
          ],
          "name": "stdout"
        }
      ]
    },
    {
      "cell_type": "code",
      "metadata": {
        "colab": {
          "base_uri": "https://localhost:8080/"
        },
        "id": "wsVjtRWCMTx0",
        "outputId": "61d8679d-d27e-48d4-afa8-6320361cb292"
      },
      "source": [
        "print('Total training images in p: ', len(os.listdir(train_p_dir)))"
      ],
      "execution_count": null,
      "outputs": [
        {
          "output_type": "stream",
          "text": [
            "Total training images in p:  0\n"
          ],
          "name": "stdout"
        }
      ]
    },
    {
      "cell_type": "code",
      "metadata": {
        "colab": {
          "base_uri": "https://localhost:8080/"
        },
        "id": "m1exvZu-MUGb",
        "outputId": "cc7b29eb-df52-4735-eafd-8d11a46afbbb"
      },
      "source": [
        "print('Total training images in q: ', len(os.listdir(train_q_dir)))"
      ],
      "execution_count": null,
      "outputs": [
        {
          "output_type": "stream",
          "text": [
            "Total training images in q:  0\n"
          ],
          "name": "stdout"
        }
      ]
    },
    {
      "cell_type": "code",
      "metadata": {
        "colab": {
          "base_uri": "https://localhost:8080/"
        },
        "id": "OI9YUaaXMUc3",
        "outputId": "75d6f0b7-a40b-4a68-e826-8c4e9e08b134"
      },
      "source": [
        "print('Total training images in r: ', len(os.listdir(train_r_dir)))"
      ],
      "execution_count": null,
      "outputs": [
        {
          "output_type": "stream",
          "text": [
            "Total training images in r:  0\n"
          ],
          "name": "stdout"
        }
      ]
    },
    {
      "cell_type": "code",
      "metadata": {
        "colab": {
          "base_uri": "https://localhost:8080/"
        },
        "id": "jfmE2dK6MU3b",
        "outputId": "6418ac43-0561-4221-82c5-506916788e6b"
      },
      "source": [
        "print('Total training images in s: ', len(os.listdir(train_s_dir)))"
      ],
      "execution_count": null,
      "outputs": [
        {
          "output_type": "stream",
          "text": [
            "Total training images in s:  0\n"
          ],
          "name": "stdout"
        }
      ]
    },
    {
      "cell_type": "code",
      "metadata": {
        "colab": {
          "base_uri": "https://localhost:8080/"
        },
        "id": "sxAe7Th5MVJy",
        "outputId": "062e7f89-f75a-463b-a1c1-819db24e62a7"
      },
      "source": [
        "print('Total training images in t: ', len(os.listdir(train_t_dir)))"
      ],
      "execution_count": null,
      "outputs": [
        {
          "output_type": "stream",
          "text": [
            "Total training images in t:  0\n"
          ],
          "name": "stdout"
        }
      ]
    },
    {
      "cell_type": "code",
      "metadata": {
        "colab": {
          "base_uri": "https://localhost:8080/"
        },
        "id": "Sc8iktigMVex",
        "outputId": "cb5e95bc-8876-414a-e08b-a60d9b5969d4"
      },
      "source": [
        "print('Total training images in u: ', len(os.listdir(train_u_dir)))"
      ],
      "execution_count": null,
      "outputs": [
        {
          "output_type": "stream",
          "text": [
            "Total training images in u:  0\n"
          ],
          "name": "stdout"
        }
      ]
    },
    {
      "cell_type": "code",
      "metadata": {
        "colab": {
          "base_uri": "https://localhost:8080/"
        },
        "id": "e-jk0fJVMWiI",
        "outputId": "378075d6-cb87-485a-af01-0c1adb03bea2"
      },
      "source": [
        "print('Total training images in v: ', len(os.listdir(train_v_dir)))"
      ],
      "execution_count": null,
      "outputs": [
        {
          "output_type": "stream",
          "text": [
            "Total training images in v:  0\n"
          ],
          "name": "stdout"
        }
      ]
    },
    {
      "cell_type": "code",
      "metadata": {
        "colab": {
          "base_uri": "https://localhost:8080/"
        },
        "id": "fpPsu5P4MXBn",
        "outputId": "6c3e7c50-31ff-4293-9d13-72fd96980836"
      },
      "source": [
        "print('Total training images in w: ', len(os.listdir(train_w_dir)))"
      ],
      "execution_count": null,
      "outputs": [
        {
          "output_type": "stream",
          "text": [
            "Total training images in w:  0\n"
          ],
          "name": "stdout"
        }
      ]
    },
    {
      "cell_type": "code",
      "metadata": {
        "colab": {
          "base_uri": "https://localhost:8080/"
        },
        "id": "CeWziiLrMXXr",
        "outputId": "4db01ce8-5a84-4112-abf1-8f4ed60bb473"
      },
      "source": [
        "print('Total training images in x: ', len(os.listdir(train_x_dir)))"
      ],
      "execution_count": null,
      "outputs": [
        {
          "output_type": "stream",
          "text": [
            "Total training images in x:  0\n"
          ],
          "name": "stdout"
        }
      ]
    },
    {
      "cell_type": "code",
      "metadata": {
        "colab": {
          "base_uri": "https://localhost:8080/"
        },
        "id": "6E404hzpMXvl",
        "outputId": "6f25751b-68e8-4a97-a2e4-2e903b81a3c8"
      },
      "source": [
        "print('Total training images in y: ', len(os.listdir(train_y_dir)))"
      ],
      "execution_count": null,
      "outputs": [
        {
          "output_type": "stream",
          "text": [
            "Total training images in y:  0\n"
          ],
          "name": "stdout"
        }
      ]
    },
    {
      "cell_type": "code",
      "metadata": {
        "colab": {
          "base_uri": "https://localhost:8080/"
        },
        "id": "Id2OslovMYF5",
        "outputId": "e7dced3f-7926-47f4-dfa6-204315846435"
      },
      "source": [
        "print('Total training images in z: ', len(os.listdir(train_z_dir)))"
      ],
      "execution_count": null,
      "outputs": [
        {
          "output_type": "stream",
          "text": [
            "Total training images in z:  0\n"
          ],
          "name": "stdout"
        }
      ]
    },
    {
      "cell_type": "code",
      "metadata": {
        "colab": {
          "base_uri": "https://localhost:8080/"
        },
        "id": "KfTC_zWDMYar",
        "outputId": "50c068be-2c59-4d9e-f6a0-5a5a72bb56a5"
      },
      "source": [
        "print('Total training images in ch: ', len(os.listdir(train_ch_dir)))"
      ],
      "execution_count": null,
      "outputs": [
        {
          "output_type": "stream",
          "text": [
            "Total training images in ch:  0\n"
          ],
          "name": "stdout"
        }
      ]
    },
    {
      "cell_type": "code",
      "metadata": {
        "colab": {
          "base_uri": "https://localhost:8080/"
        },
        "id": "UWRV7XlYMYt1",
        "outputId": "478d4f03-3de5-4f5e-bcfc-5142ed17d101"
      },
      "source": [
        "print('Total training images in dz: ', len(os.listdir(train_dz_dir)))"
      ],
      "execution_count": null,
      "outputs": [
        {
          "output_type": "stream",
          "text": [
            "Total training images in dz:  0\n"
          ],
          "name": "stdout"
        }
      ]
    },
    {
      "cell_type": "code",
      "metadata": {
        "colab": {
          "base_uri": "https://localhost:8080/"
        },
        "id": "mNZ3hr0FMZAe",
        "outputId": "de80ea63-1603-45bd-d2ef-943b48ea6692"
      },
      "source": [
        "print('Total training images in ɖ: ', len(os.listdir(train_ɖ_dir)))"
      ],
      "execution_count": null,
      "outputs": [
        {
          "output_type": "stream",
          "text": [
            "Total training images in ɖ:  0\n"
          ],
          "name": "stdout"
        }
      ]
    },
    {
      "cell_type": "code",
      "metadata": {
        "colab": {
          "base_uri": "https://localhost:8080/"
        },
        "id": "2es_AJUBMZUy",
        "outputId": "5f19ad26-e333-43cc-c3c7-17257d03bf4e"
      },
      "source": [
        "print('Total training images in ƒ: ', len(os.listdir(train_ƒ_dir)))"
      ],
      "execution_count": null,
      "outputs": [
        {
          "output_type": "stream",
          "text": [
            "Total training images in ƒ:  0\n"
          ],
          "name": "stdout"
        }
      ]
    },
    {
      "cell_type": "code",
      "metadata": {
        "colab": {
          "base_uri": "https://localhost:8080/"
        },
        "id": "eaykKmupMZox",
        "outputId": "032ce19c-34d3-437b-e7a8-2c9e1edff4e0"
      },
      "source": [
        "print('Total training images in ɣ: ', len(os.listdir(train_ɣ_dir)))"
      ],
      "execution_count": null,
      "outputs": [
        {
          "output_type": "stream",
          "text": [
            "Total training images in ɣ:  0\n"
          ],
          "name": "stdout"
        }
      ]
    },
    {
      "cell_type": "code",
      "metadata": {
        "colab": {
          "base_uri": "https://localhost:8080/"
        },
        "id": "ZE1GCDpBMZ9-",
        "outputId": "324f2a15-4a71-46ee-cf9b-bc5e27b52c24"
      },
      "source": [
        "print('Total training images in gb: ', len(os.listdir(train_gb_dir)))"
      ],
      "execution_count": null,
      "outputs": [
        {
          "output_type": "stream",
          "text": [
            "Total training images in gb:  0\n"
          ],
          "name": "stdout"
        }
      ]
    },
    {
      "cell_type": "code",
      "metadata": {
        "colab": {
          "base_uri": "https://localhost:8080/"
        },
        "id": "oBBhMZZpMaRw",
        "outputId": "74d3ad32-6a04-42e9-9b9a-57908dd9619a"
      },
      "source": [
        "print('Total training images in kp: ', len(os.listdir(train_kp_dir)))"
      ],
      "execution_count": null,
      "outputs": [
        {
          "output_type": "stream",
          "text": [
            "Total training images in kp:  0\n"
          ],
          "name": "stdout"
        }
      ]
    },
    {
      "cell_type": "code",
      "metadata": {
        "colab": {
          "base_uri": "https://localhost:8080/"
        },
        "id": "tbqXQOTdMaoo",
        "outputId": "1a000e60-336b-4226-eb7b-71813a536e9e"
      },
      "source": [
        "print('Total training images in ny: ', len(os.listdir(train_ny_dir)))"
      ],
      "execution_count": null,
      "outputs": [
        {
          "output_type": "stream",
          "text": [
            "Total training images in ny:  0\n"
          ],
          "name": "stdout"
        }
      ]
    },
    {
      "cell_type": "code",
      "metadata": {
        "colab": {
          "base_uri": "https://localhost:8080/"
        },
        "id": "Jz66I4lOMa_I",
        "outputId": "03b3b3d4-1264-4c82-843d-0bbfa4d178cc"
      },
      "source": [
        "print('Total training images in ŋ: ', len(os.listdir(train_ŋ_dir)))"
      ],
      "execution_count": null,
      "outputs": [
        {
          "output_type": "stream",
          "text": [
            "Total training images in ŋ:  0\n"
          ],
          "name": "stdout"
        }
      ]
    },
    {
      "cell_type": "code",
      "metadata": {
        "colab": {
          "base_uri": "https://localhost:8080/"
        },
        "id": "UeZ_om3GMbV3",
        "outputId": "8ded8bb4-fb21-4c88-db6a-3de81a8054a1"
      },
      "source": [
        "print('Total training images in sh: ', len(os.listdir(train_sh_dir)))"
      ],
      "execution_count": null,
      "outputs": [
        {
          "output_type": "stream",
          "text": [
            "Total training images in sh:  0\n"
          ],
          "name": "stdout"
        }
      ]
    },
    {
      "cell_type": "code",
      "metadata": {
        "colab": {
          "base_uri": "https://localhost:8080/"
        },
        "id": "PH6KCW42Mbrc",
        "outputId": "c876913a-086d-4728-ce94-eea48f8617b0"
      },
      "source": [
        "print('Total training images in ʋ: ', len(os.listdir(train_ʋ_dir)))"
      ],
      "execution_count": null,
      "outputs": [
        {
          "output_type": "stream",
          "text": [
            "Total training images in ʋ:  0\n"
          ],
          "name": "stdout"
        }
      ]
    },
    {
      "cell_type": "code",
      "metadata": {
        "colab": {
          "base_uri": "https://localhost:8080/"
        },
        "id": "D_2roSNVMcAx",
        "outputId": "b2958a58-9817-4347-f2b5-139a35332533"
      },
      "source": [
        "print('Total training images in ʒ: ', len(os.listdir(train_ʒ_dir)))"
      ],
      "execution_count": null,
      "outputs": [
        {
          "output_type": "stream",
          "text": [
            "Total training images in ʒ:  0\n"
          ],
          "name": "stdout"
        }
      ]
    },
    {
      "cell_type": "code",
      "metadata": {
        "id": "hBj-vyzXS282"
      },
      "source": [
        "from keras import layers"
      ],
      "execution_count": null,
      "outputs": []
    },
    {
      "cell_type": "code",
      "metadata": {
        "id": "5NpdLrvZpfd5"
      },
      "source": [
        "from keras import models"
      ],
      "execution_count": null,
      "outputs": []
    },
    {
      "cell_type": "code",
      "metadata": {
        "id": "0nG9Qmz6plWe"
      },
      "source": [
        "model = models.Sequential()"
      ],
      "execution_count": null,
      "outputs": []
    },
    {
      "cell_type": "code",
      "metadata": {
        "id": "t3NV43jOpvRU"
      },
      "source": [
        "model.add(layers.Conv2D(32, (3, 3), activation='relu',input_shape=(150, 150, 3)))"
      ],
      "execution_count": null,
      "outputs": []
    },
    {
      "cell_type": "code",
      "metadata": {
        "id": "SPStzJoZp_Ml"
      },
      "source": [
        "model.add(layers.MaxPooling2D((2, 2)))"
      ],
      "execution_count": null,
      "outputs": []
    },
    {
      "cell_type": "code",
      "metadata": {
        "id": "EGzUrJbmqPT5"
      },
      "source": [
        "model.add(layers.Conv2D(64, (3, 3), activation='relu'))"
      ],
      "execution_count": null,
      "outputs": []
    },
    {
      "cell_type": "code",
      "metadata": {
        "id": "u7285rJzqc5d"
      },
      "source": [
        "model.add(layers.MaxPooling2D((2, 2)))"
      ],
      "execution_count": null,
      "outputs": []
    },
    {
      "cell_type": "code",
      "metadata": {
        "id": "zi3I0Bo7qr_p"
      },
      "source": [
        "model.add(layers.Conv2D(128, (3, 3), activation='relu'))"
      ],
      "execution_count": null,
      "outputs": []
    },
    {
      "cell_type": "code",
      "metadata": {
        "id": "PfCS5hfLq1AK"
      },
      "source": [
        "model.add(layers.MaxPooling2D((2, 2)))"
      ],
      "execution_count": null,
      "outputs": []
    },
    {
      "cell_type": "code",
      "metadata": {
        "id": "DhTGfeEHq_SI"
      },
      "source": [
        "model.add(layers.Conv2D(128, (3, 3), activation='relu'))"
      ],
      "execution_count": null,
      "outputs": []
    },
    {
      "cell_type": "code",
      "metadata": {
        "id": "hNxEE-ZArG5H"
      },
      "source": [
        "model.add(layers.MaxPooling2D((2, 2)))"
      ],
      "execution_count": null,
      "outputs": []
    },
    {
      "cell_type": "code",
      "metadata": {
        "id": "KN_62oFjrURz"
      },
      "source": [
        "model.add(layers.Flatten())"
      ],
      "execution_count": null,
      "outputs": []
    },
    {
      "cell_type": "code",
      "metadata": {
        "id": "SnIAkU6brbg3"
      },
      "source": [
        "model.add(layers.Dense(512, activation='relu'))"
      ],
      "execution_count": null,
      "outputs": []
    },
    {
      "cell_type": "code",
      "metadata": {
        "id": "Xe_72TVZ6ve1"
      },
      "source": [
        "model.add(layers.Dropout(0.5))"
      ],
      "execution_count": null,
      "outputs": []
    },
    {
      "cell_type": "code",
      "metadata": {
        "id": "IPwdvIE_8brw"
      },
      "source": [
        "model.add(layers.Dense(128, activation='relu'))"
      ],
      "execution_count": null,
      "outputs": []
    },
    {
      "cell_type": "code",
      "metadata": {
        "id": "jVphcH1T89ZC"
      },
      "source": [
        "model.add(layers.Dropout(0.5))"
      ],
      "execution_count": null,
      "outputs": []
    },
    {
      "cell_type": "code",
      "metadata": {
        "id": "nlg9egKr9Hqc"
      },
      "source": [
        "model.add(layers.Dense(128, activation='relu'))"
      ],
      "execution_count": null,
      "outputs": []
    },
    {
      "cell_type": "code",
      "metadata": {
        "id": "InmszFm_9Qum"
      },
      "source": [
        "model.add(layers.Dropout(0.5))"
      ],
      "execution_count": null,
      "outputs": []
    },
    {
      "cell_type": "code",
      "metadata": {
        "id": "nhxgcn4-t0eq"
      },
      "source": [
        "model.add(layers.Dense(10, activation='softmax'))"
      ],
      "execution_count": null,
      "outputs": []
    },
    {
      "cell_type": "code",
      "metadata": {
        "colab": {
          "base_uri": "https://localhost:8080/"
        },
        "id": "27fuB9gwrvwZ",
        "outputId": "bd74bd89-0f86-4a7d-f284-f01db363b0f3"
      },
      "source": [
        "model.summary()"
      ],
      "execution_count": null,
      "outputs": [
        {
          "output_type": "stream",
          "text": [
            "Model: \"sequential\"\n",
            "_________________________________________________________________\n",
            "Layer (type)                 Output Shape              Param #   \n",
            "=================================================================\n",
            "conv2d (Conv2D)              (None, 148, 148, 32)      896       \n",
            "_________________________________________________________________\n",
            "max_pooling2d (MaxPooling2D) (None, 74, 74, 32)        0         \n",
            "_________________________________________________________________\n",
            "conv2d_1 (Conv2D)            (None, 72, 72, 64)        18496     \n",
            "_________________________________________________________________\n",
            "max_pooling2d_1 (MaxPooling2 (None, 36, 36, 64)        0         \n",
            "_________________________________________________________________\n",
            "conv2d_2 (Conv2D)            (None, 34, 34, 128)       73856     \n",
            "_________________________________________________________________\n",
            "max_pooling2d_2 (MaxPooling2 (None, 17, 17, 128)       0         \n",
            "_________________________________________________________________\n",
            "conv2d_3 (Conv2D)            (None, 15, 15, 128)       147584    \n",
            "_________________________________________________________________\n",
            "max_pooling2d_3 (MaxPooling2 (None, 7, 7, 128)         0         \n",
            "_________________________________________________________________\n",
            "flatten (Flatten)            (None, 6272)              0         \n",
            "_________________________________________________________________\n",
            "dense (Dense)                (None, 512)               3211776   \n",
            "_________________________________________________________________\n",
            "dropout (Dropout)            (None, 512)               0         \n",
            "_________________________________________________________________\n",
            "dense_1 (Dense)              (None, 128)               65664     \n",
            "_________________________________________________________________\n",
            "dropout_1 (Dropout)          (None, 128)               0         \n",
            "_________________________________________________________________\n",
            "dense_2 (Dense)              (None, 128)               16512     \n",
            "_________________________________________________________________\n",
            "dropout_2 (Dropout)          (None, 128)               0         \n",
            "_________________________________________________________________\n",
            "dense_3 (Dense)              (None, 10)                1290      \n",
            "=================================================================\n",
            "Total params: 3,536,074\n",
            "Trainable params: 3,536,074\n",
            "Non-trainable params: 0\n",
            "_________________________________________________________________\n"
          ],
          "name": "stdout"
        }
      ]
    },
    {
      "cell_type": "code",
      "metadata": {
        "id": "6EGNKpaur5W4"
      },
      "source": [
        "from keras import optimizers"
      ],
      "execution_count": null,
      "outputs": []
    },
    {
      "cell_type": "code",
      "metadata": {
        "id": "L70iSK2tut48"
      },
      "source": [
        "model.compile(loss='categorical_crossentropy',optimizer=optimizers.RMSprop(lr=1e-4),metrics=['acc'])"
      ],
      "execution_count": null,
      "outputs": []
    },
    {
      "cell_type": "code",
      "metadata": {
        "id": "uvUiqfjiu533"
      },
      "source": [
        "from keras.preprocessing.image import ImageDataGenerator"
      ],
      "execution_count": null,
      "outputs": []
    },
    {
      "cell_type": "code",
      "metadata": {
        "id": "GQDTqOJdvJpU"
      },
      "source": [
        "train_datagen = ImageDataGenerator(rescale=1./255)"
      ],
      "execution_count": null,
      "outputs": []
    },
    {
      "cell_type": "code",
      "metadata": {
        "id": "j7lxJkUIvV1w"
      },
      "source": [
        "test_datagen = ImageDataGenerator(rescale=1./255)"
      ],
      "execution_count": null,
      "outputs": []
    },
    {
      "cell_type": "code",
      "metadata": {
        "colab": {
          "base_uri": "https://localhost:8080/"
        },
        "id": "UOigoyLXve1K",
        "outputId": "ceaa9314-49c3-4239-bf5d-f2cb84384631"
      },
      "source": [
        "train_generator = train_datagen.flow_from_directory(train_dir,target_size=(150, 150),batch_size=20,class_mode='categorical')"
      ],
      "execution_count": null,
      "outputs": [
        {
          "output_type": "stream",
          "text": [
            "Found 6 images belonging to 40 classes.\n"
          ],
          "name": "stdout"
        }
      ]
    },
    {
      "cell_type": "code",
      "metadata": {
        "colab": {
          "base_uri": "https://localhost:8080/"
        },
        "id": "XZU_xQ-oxdj5",
        "outputId": "6fe63e21-30a7-467a-f2de-d07f1d3c9eec"
      },
      "source": [
        "test_generator = test_datagen.flow_from_directory(test_dir,target_size=(150, 150),batch_size=20,class_mode='categorical')"
      ],
      "execution_count": null,
      "outputs": [
        {
          "output_type": "stream",
          "text": [
            "Found 0 images belonging to 0 classes.\n"
          ],
          "name": "stdout"
        }
      ]
    },
    {
      "cell_type": "code",
      "metadata": {
        "colab": {
          "base_uri": "https://localhost:8080/"
        },
        "id": "B5BtIqc4zBGb",
        "outputId": "5f75282e-ab72-4d49-f660-75e360adf5ea"
      },
      "source": [
        "for data_batch, labels_batch in train_generator:\n",
        "  print('data batch shape: ',data_batch.shape)\n",
        "  print('labels batch shape: ',labels_batch.shape)\n",
        "  break"
      ],
      "execution_count": null,
      "outputs": [
        {
          "output_type": "stream",
          "text": [
            "data batch shape:  (6, 150, 150, 3)\n",
            "labels batch shape:  (6, 40)\n"
          ],
          "name": "stdout"
        }
      ]
    },
    {
      "cell_type": "code",
      "metadata": {
        "id": "YLodusLC2k7x"
      },
      "source": [
        ""
      ],
      "execution_count": null,
      "outputs": []
    }
  ]
}